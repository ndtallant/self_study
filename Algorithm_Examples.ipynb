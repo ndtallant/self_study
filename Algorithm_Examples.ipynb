{
 "cells": [
  {
   "cell_type": "markdown",
   "metadata": {
    "collapsed": true
   },
   "source": [
    "# Algorithm Examples from Rosen Ch. 3"
   ]
  },
  {
   "cell_type": "markdown",
   "metadata": {
    "collapsed": true
   },
   "source": [
    "### Maximum Value"
   ]
  },
  {
   "cell_type": "code",
   "execution_count": 13,
   "metadata": {
    "collapsed": true
   },
   "outputs": [],
   "source": [
    "def find_max(sequence):\n",
    "    temp_max = sequence[0]\n",
    "    max_index = 0\n",
    "    for index, element in enumerate(sequence):\n",
    "        if element > temp_max:\n",
    "            temp_max = element\n",
    "            max_index = index\n",
    "    print(\"{} is the maximum, located at index {}.\".format(temp_max, max_index))\n",
    "    #printing instead of returning for these examples"
   ]
  },
  {
   "cell_type": "code",
   "execution_count": 14,
   "metadata": {},
   "outputs": [
    {
     "name": "stdout",
     "output_type": "stream",
     "text": [
      "5 is the maximum, located at index 4.\n",
      "8 is the maximum, located at index 2.\n"
     ]
    }
   ],
   "source": [
    "example0 = [1,2,3,4,5]\n",
    "example1 = [3,4,8,6,7,4]\n",
    "\n",
    "find_max(example0)\n",
    "find_max(example1)"
   ]
  },
  {
   "cell_type": "markdown",
   "metadata": {},
   "source": [
    "### Linear Search"
   ]
  },
  {
   "cell_type": "code",
   "execution_count": 15,
   "metadata": {
    "collapsed": true
   },
   "outputs": [],
   "source": [
    "def linear_search(n, sequence):\n",
    "    for index, element in enumerate(sequence):\n",
    "        if element == n:\n",
    "            return \"{} is located at index {}.\".format(n, index)\n",
    "    return \"Not in sequence.\"\n",
    "    "
   ]
  },
  {
   "cell_type": "code",
   "execution_count": 17,
   "metadata": {},
   "outputs": [
    {
     "data": {
      "text/plain": [
       "'4 is located at index 3.'"
      ]
     },
     "execution_count": 17,
     "metadata": {},
     "output_type": "execute_result"
    }
   ],
   "source": [
    "example0 = [1,2,3,4,5]\n",
    "example1 = [3,4,8,6,7]\n",
    "\n",
    "linear_search(4, example0)"
   ]
  },
  {
   "cell_type": "code",
   "execution_count": 18,
   "metadata": {},
   "outputs": [
    {
     "data": {
      "text/plain": [
       "'4 is located at index 1.'"
      ]
     },
     "execution_count": 18,
     "metadata": {},
     "output_type": "execute_result"
    }
   ],
   "source": [
    "linear_search(4, example1)"
   ]
  },
  {
   "cell_type": "code",
   "execution_count": 19,
   "metadata": {},
   "outputs": [
    {
     "data": {
      "text/plain": [
       "'Not in sequence.'"
      ]
     },
     "execution_count": 19,
     "metadata": {},
     "output_type": "execute_result"
    }
   ],
   "source": [
    "linear_search(2, example1)"
   ]
  },
  {
   "cell_type": "markdown",
   "metadata": {},
   "source": [
    "### Binary Search *Iterative Example*"
   ]
  },
  {
   "cell_type": "code",
   "execution_count": 1,
   "metadata": {
    "collapsed": true
   },
   "outputs": [],
   "source": [
    "def binary_search(n, sequence):\n",
    "    '''\n",
    "    The implentation in the book uses the indeces of the elements.\n",
    "    '''\n",
    "    left_end = 0 \n",
    "    right_end = len(sequence) - 1\n",
    "    location = None\n",
    "    while left_end < right_end:\n",
    "        mid = (right_end + left_end)//2\n",
    "        if n > sequence[mid]:\n",
    "            left_end = mid + 1\n",
    "        else:\n",
    "            right_end = mid\n",
    "        if n == sequence[left_end]:\n",
    "            location = left_end\n",
    "    return location        \n",
    "        "
   ]
  },
  {
   "cell_type": "code",
   "execution_count": 3,
   "metadata": {},
   "outputs": [
    {
     "data": {
      "text/plain": [
       "3"
      ]
     },
     "execution_count": 3,
     "metadata": {},
     "output_type": "execute_result"
    }
   ],
   "source": [
    "example0 = [1,2,3,4,5]\n",
    "binary_search(4, example0)"
   ]
  },
  {
   "cell_type": "code",
   "execution_count": 6,
   "metadata": {},
   "outputs": [
    {
     "data": {
      "text/plain": [
       "1"
      ]
     },
     "execution_count": 6,
     "metadata": {},
     "output_type": "execute_result"
    }
   ],
   "source": [
    "example1 = [3,4,8,6,7]\n",
    "binary_search(4, example1)"
   ]
  },
  {
   "cell_type": "markdown",
   "metadata": {},
   "source": [
    "### Binary Search *Recursive Example*"
   ]
  },
  {
   "cell_type": "code",
   "execution_count": 7,
   "metadata": {
    "collapsed": true
   },
   "outputs": [],
   "source": [
    "def recursive_binary(n, sequence):\n",
    "    if len(sequence) == 0:\n",
    "        return False\n",
    "    else:\n",
    "        mid = len(sequence)//2\n",
    "        \n",
    "        if sequence[mid] == n:\n",
    "            return True\n",
    "        elif sequence[mid] > n:\n",
    "            return recursive_binary(n, sequence[0:mid])\n",
    "        else:\n",
    "            return recursive_binary(n, sequence[mid+1:])"
   ]
  },
  {
   "cell_type": "code",
   "execution_count": 8,
   "metadata": {},
   "outputs": [
    {
     "data": {
      "text/plain": [
       "3"
      ]
     },
     "execution_count": 8,
     "metadata": {},
     "output_type": "execute_result"
    }
   ],
   "source": [
    "example0 = [1,2,3,4,5]\n",
    "binary_search(4, example0)"
   ]
  },
  {
   "cell_type": "code",
   "execution_count": 9,
   "metadata": {},
   "outputs": [
    {
     "data": {
      "text/plain": [
       "1"
      ]
     },
     "execution_count": 9,
     "metadata": {},
     "output_type": "execute_result"
    }
   ],
   "source": [
    "example1 = [3,4,8,6,7]\n",
    "binary_search(4, example1)"
   ]
  },
  {
   "cell_type": "markdown",
   "metadata": {},
   "source": [
    "### Bubble Sort"
   ]
  },
  {
   "cell_type": "code",
   "execution_count": 15,
   "metadata": {
    "collapsed": true
   },
   "outputs": [],
   "source": [
    "def bubble_sort(sequence):\n",
    "    for i, value in enumerate(sequence):\n",
    "        for v in range(1, len(sequence) - i):\n",
    "            if sequence[v - 1] > sequence[v]:\n",
    "                foo = sequence[v]\n",
    "                sequence[v] = sequence[v - 1]\n",
    "                sequence[v - 1] = foo\n",
    "    return sequence"
   ]
  },
  {
   "cell_type": "code",
   "execution_count": 16,
   "metadata": {},
   "outputs": [
    {
     "data": {
      "text/plain": [
       "[1, 2, 3, 4, 5]"
      ]
     },
     "execution_count": 16,
     "metadata": {},
     "output_type": "execute_result"
    }
   ],
   "source": [
    "example0 = [3,2,4,1,5]\n",
    "bubble_sort(example0)"
   ]
  },
  {
   "cell_type": "code",
   "execution_count": 17,
   "metadata": {
    "collapsed": true
   },
   "outputs": [],
   "source": [
    "# Decreasing just requires flipping the\n",
    "# operator in the conditional\n",
    "\n",
    "def decreasing_bubble(sequence):\n",
    "    for i, value in enumerate(sequence):\n",
    "        for v in range(1, len(sequence) - i):\n",
    "            if sequence[v - 1] < sequence[v]: #here!\n",
    "                foo = sequence[v]\n",
    "                sequence[v] = sequence[v - 1]\n",
    "                sequence[v - 1] = foo\n",
    "    return sequence"
   ]
  },
  {
   "cell_type": "code",
   "execution_count": 19,
   "metadata": {},
   "outputs": [
    {
     "data": {
      "text/plain": [
       "[5, 4, 3, 2, 1]"
      ]
     },
     "execution_count": 19,
     "metadata": {},
     "output_type": "execute_result"
    }
   ],
   "source": [
    "example0 = [3,2,4,1,5]\n",
    "decreasing_bubble(example0)"
   ]
  },
  {
   "cell_type": "markdown",
   "metadata": {},
   "source": [
    "### Insertion Sort"
   ]
  },
  {
   "cell_type": "code",
   "execution_count": 36,
   "metadata": {
    "collapsed": true
   },
   "outputs": [],
   "source": [
    "def insertion_sort(sequence):\n",
    "    for j in range(1, len(sequence)):\n",
    "        i = 0\n",
    "        while sequence[j] > sequence[i]:\n",
    "            i += 1 \n",
    "        x = sequence[j]\n",
    "        for k in range(j-i):\n",
    "            sequence[(j-k)] = sequence[(j-k-1)]\n",
    "        sequence[i] = x\n",
    "    return sequence"
   ]
  },
  {
   "cell_type": "code",
   "execution_count": 37,
   "metadata": {},
   "outputs": [
    {
     "data": {
      "text/plain": [
       "[1, 2, 3, 4, 5]"
      ]
     },
     "execution_count": 37,
     "metadata": {},
     "output_type": "execute_result"
    }
   ],
   "source": [
    "example0 = [3,2,4,1,5]\n",
    "insertion_sort(example0)"
   ]
  },
  {
   "cell_type": "code",
   "execution_count": 38,
   "metadata": {},
   "outputs": [
    {
     "data": {
      "text/plain": [
       "[2, 3, 3, 4, 5, 6, 7, 7, 8]"
      ]
     },
     "execution_count": 38,
     "metadata": {},
     "output_type": "execute_result"
    }
   ],
   "source": [
    "example1 = [3,2,5,6,7,4,3,8,7]\n",
    "insertion_sort(example1)"
   ]
  },
  {
   "cell_type": "code",
   "execution_count": null,
   "metadata": {
    "collapsed": true
   },
   "outputs": [],
   "source": []
  }
 ],
 "metadata": {
  "kernelspec": {
   "display_name": "Python 3",
   "language": "python",
   "name": "python3"
  },
  "language_info": {
   "codemirror_mode": {
    "name": "ipython",
    "version": 3
   },
   "file_extension": ".py",
   "mimetype": "text/x-python",
   "name": "python",
   "nbconvert_exporter": "python",
   "pygments_lexer": "ipython3",
   "version": "3.7.2"
  }
 },
 "nbformat": 4,
 "nbformat_minor": 2
}
