{
 "cells": [
  {
   "cell_type": "code",
   "execution_count": 1,
   "metadata": {},
   "outputs": [],
   "source": [
    "import pandas as pd\n",
    "import numpy as np"
   ]
  },
  {
   "cell_type": "code",
   "execution_count": 2,
   "metadata": {},
   "outputs": [],
   "source": [
    "def monty_hall():\n",
    "    [[selected_door, winning_door]] = np.random.randint(0, 3, (1,2))\n",
    "    door_options = [0, 1, 2]\n",
    "    \n",
    "    # Monty picks a door\n",
    "    door_options.remove(selected_door)\n",
    "    \n",
    "    # If the original door is the winning one,\n",
    "    # the open and switching door each have a 1/2\n",
    "    # chance of being selected\n",
    "    if selected_door == winning_door:\n",
    "        open_door = np.random.choice(door_options)\n",
    "        switching_door = door_options.remove(open_door)\n",
    "       \n",
    "    # Otherwise the open door must be a non-winning door\n",
    "    # and the switching door must be a winning door\n",
    "    else:\n",
    "        door_options.remove(winning_door)\n",
    "        open_door = door_options\n",
    "        switching_door = winning_door\n",
    "        \n",
    "    if switching_door == winning_door:\n",
    "        switch = 1\n",
    "        stay = 0\n",
    "    else:\n",
    "        switch = 0\n",
    "        stay = 1\n",
    "    return switch, stay"
   ]
  },
  {
   "cell_type": "code",
   "execution_count": 3,
   "metadata": {},
   "outputs": [
    {
     "data": {
      "text/plain": [
       "Switch    0.6578\n",
       "Stay      0.3422\n",
       "dtype: float64"
      ]
     },
     "execution_count": 3,
     "metadata": {},
     "output_type": "execute_result"
    }
   ],
   "source": [
    "pd.DataFrame([monty_hall() for i in range(10000)], \n",
    "             columns=['Switch', 'Stay']).mean()"
   ]
  },
  {
   "cell_type": "code",
   "execution_count": null,
   "metadata": {},
   "outputs": [],
   "source": []
  }
 ],
 "metadata": {
  "kernelspec": {
   "display_name": "Python 3",
   "language": "python",
   "name": "python3"
  },
  "language_info": {
   "codemirror_mode": {
    "name": "ipython",
    "version": 3
   },
   "file_extension": ".py",
   "mimetype": "text/x-python",
   "name": "python",
   "nbconvert_exporter": "python",
   "pygments_lexer": "ipython3",
   "version": "3.7.2"
  }
 },
 "nbformat": 4,
 "nbformat_minor": 2
}
